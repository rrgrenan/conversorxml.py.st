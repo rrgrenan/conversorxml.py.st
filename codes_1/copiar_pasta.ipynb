{
 "cells": [
  {
   "cell_type": "code",
   "execution_count": 2,
   "metadata": {},
   "outputs": [],
   "source": [
    "import os\n",
    "import shutil\n"
   ]
  },
  {
   "cell_type": "code",
   "execution_count": 3,
   "metadata": {},
   "outputs": [],
   "source": [
    "pasta_origem = r\"C:\\Users\\USER\\Documents\\Planilhas Renan\\codes\\imagens_2\"\n",
    "\n",
    "# Caminho da pasta de destino\n",
    "pasta_destino = r\"C:\\Users\\USER\\Documents\\Planilhas Renan\\SIte ready\\luisance_ready_site\\luisance_img\"    "
   ]
  },
  {
   "cell_type": "code",
   "execution_count": 4,
   "metadata": {},
   "outputs": [
    {
     "name": "stdout",
     "output_type": "stream",
     "text": [
      "Imagem L3205.png copiada com sucesso!\n",
      "Imagem L5212.png copiada com sucesso!\n",
      "Imagem L5213.png copiada com sucesso!\n",
      "Imagem L5214.png copiada com sucesso!\n",
      "Imagem L5211.png copiada com sucesso!\n",
      "Imagem L3123.png copiada com sucesso!\n",
      "Imagem L3217-B não encontrada na pasta de origem!\n",
      "Imagem L5304 não encontrada na pasta de origem!\n",
      "Imagem L689.png copiada com sucesso!\n"
     ]
    }
   ],
   "source": [
    "def copiar_imagens(lista_nomes, pasta_origem, pasta_destino):\n",
    "    # Verifica se a pasta de destino existe, se não, cria ela\n",
    "    if not os.path.exists(pasta_destino):\n",
    "        os.makedirs(pasta_destino)\n",
    "\n",
    "    # Extensões possíveis\n",
    "    extensoes = [\".jpg\", \".png\"]\n",
    "\n",
    "    # Itera sobre a lista de nomes\n",
    "    for nome in lista_nomes:\n",
    "        encontrado = False\n",
    "        for extensao in extensoes:\n",
    "            # Constroi o caminho completo da imagem na pasta de origem com a extensão\n",
    "            caminho_origem = os.path.join(pasta_origem, nome + extensao)\n",
    "            \n",
    "            # Verifica se o arquivo existe na pasta de origem\n",
    "            if os.path.isfile(caminho_origem):\n",
    "                # Constroi o caminho completo na pasta de destino\n",
    "                caminho_destino = os.path.join(pasta_destino, nome + extensao)\n",
    "                # Copia a imagem para a pasta de destino\n",
    "                shutil.copy2(caminho_origem, caminho_destino)\n",
    "                print(f\"Imagem {nome + extensao} copiada com sucesso!\")\n",
    "                encontrado = True\n",
    "                break\n",
    "        \n",
    "        if not encontrado:\n",
    "            print(f\"Imagem {nome} não encontrada na pasta de origem!\")\n",
    "\n",
    "# Lista de nomes das imagens\n",
    "lista_nomes = [\"L3205\",\"L5212\",\"L5213\",\"L5214\",\"L5211\",\"L3123\",\"L3217-B\",\"L5304\",\"L689\"]\n",
    "\n",
    "\n",
    "# Chama a função para copiar as imagens\n",
    "copiar_imagens(lista_nomes, pasta_origem, pasta_destino)"
   ]
  }
 ],
 "metadata": {
  "kernelspec": {
   "display_name": "Python 3",
   "language": "python",
   "name": "python3"
  },
  "language_info": {
   "codemirror_mode": {
    "name": "ipython",
    "version": 3
   },
   "file_extension": ".py",
   "mimetype": "text/x-python",
   "name": "python",
   "nbconvert_exporter": "python",
   "pygments_lexer": "ipython3",
   "version": "3.12.4"
  }
 },
 "nbformat": 4,
 "nbformat_minor": 2
}
