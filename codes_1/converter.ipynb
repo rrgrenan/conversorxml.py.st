{
 "cells": [
  {
   "cell_type": "code",
   "execution_count": 6,
   "metadata": {},
   "outputs": [],
   "source": [
    "import pandas as pd\n",
    "import openpyxl\n",
    "import os"
   ]
  },
  {
   "cell_type": "code",
   "execution_count": 8,
   "metadata": {},
   "outputs": [
    {
     "data": {
      "text/html": [
       "<div>\n",
       "<style scoped>\n",
       "    .dataframe tbody tr th:only-of-type {\n",
       "        vertical-align: middle;\n",
       "    }\n",
       "\n",
       "    .dataframe tbody tr th {\n",
       "        vertical-align: top;\n",
       "    }\n",
       "\n",
       "    .dataframe thead th {\n",
       "        text-align: right;\n",
       "    }\n",
       "</style>\n",
       "<table border=\"1\" class=\"dataframe\">\n",
       "  <thead>\n",
       "    <tr style=\"text-align: right;\">\n",
       "      <th></th>\n",
       "      <th></th>\n",
       "      <th></th>\n",
       "      <th>cod_cli;nome_cli;fant_cli;cgc_cpf_cl;insc_rg_cl;vendedor;cod_cli_1;tipo;endereco;numero;bairro;cod_cid;cep;telefone;fax;obs;contato;lk_nm_cidade;lk_nm_vendedor;lk_estado;COD_REG;tip_1_cli;obs_cli;cl_classificacao;dt_pedido;tipo_fat;cl_endereco;vl_cheques;vl_contas;LIMI_COMP;cl_limite_usado;cl_limite_disponivel;cl_estouro;complemento;VALOR_VENDAS;DATA_ULT_COMPRA;cod_grup;grupo;email;latitude;longitude;RAZAO_SOC;sem_lactose;sem_leite;sem_gluten;zero_acucar;proteico;vegano;energetico;id_supervisor;nome_supervisor;data_nasc;</th>\n",
       "    </tr>\n",
       "  </thead>\n",
       "  <tbody>\n",
       "    <tr>\n",
       "      <th>01154;21.680.359 ALINNE FONSECA DA SILVA;21.680.359 ALINNE FONSECA DA SILVA;21680359000127;ISENTO;;01154;;RUA IPANEMA;208;VERDES HORIZONTES;;42809679;71991339314;;IMPORTADO PLANILHA COD: 41433858;;;;;;;IMPORTADO PLANILHA COD: 41433858;;09/01/2025 11:20:52;DPB;RUA IPANEMA - 208</th>\n",
       "      <th>VERDES HORIZONTES;;;0;0</th>\n",
       "      <th>00;0</th>\n",
       "      <td>00;;TATAI BAMBINA PETSHOP;;;001;GRUPO;ALINNE.M...</td>\n",
       "    </tr>\n",
       "    <tr>\n",
       "      <th>00195;34.790.530 KEROLEYNE TEREZA GOMES MELO;34.790.530 KEROLEYNE TEREZA GOMES MELO;34790530000100;161177984;;00195;;RODOVIA BA-099 - ESTRADA DO COCO;KM 11;VILA DE ABRANTES (ABRANTES);;42827450;71983357799;;IMPORTADO PLANILHA;;;;;;;IMPORTADO PLANILHA;;09/01/2025 11:20:52;DPB;RODOVIA BA-099 - ESTRADA DO COCO - KM 11</th>\n",
       "      <th>VILA DE ABRANTES (ABRANTES);;;0;0</th>\n",
       "      <th>00;0</th>\n",
       "      <td>00;;CONJ ALPHAVILLE LITORAL NORTE 1 CASA T116;...</td>\n",
       "    </tr>\n",
       "    <tr>\n",
       "      <th>01282;ALAN PAULO DE ANDRADE;ALAN PAULO DE ANDRADE;;;;01282;;;;;;;;;IMPORTADO PLANILHA;;;;;;;IMPORTADO PLANILHA;;09/01/2025 11:20:52;DPB; -</th>\n",
       "      <th>;;;0;0</th>\n",
       "      <th>00;0</th>\n",
       "      <td>00;;;;;001;GRUPO;;;;;;;;;;;;;;;</td>\n",
       "    </tr>\n",
       "    <tr>\n",
       "      <th>01318;ALINNE FONSECA;ALINNE FONSECA;;;;01318;;;;;;;;;IMPORTADO PLANILHA;;;;;;;IMPORTADO PLANILHA;;09/01/2025 11:20:52;DPB; -</th>\n",
       "      <th>;;;0;0</th>\n",
       "      <th>00;0</th>\n",
       "      <td>00;;;;;001;GRUPO;;;;;;;;;;;;;;;</td>\n",
       "    </tr>\n",
       "    <tr>\n",
       "      <th>01321;ANDERSON;ANDERSON;;;;01321;;;;;;;;;IMPORTADO PLANILHA;;;;;;;IMPORTADO PLANILHA;;09/01/2025 11:20:52;DPB; -</th>\n",
       "      <th>;;;0;0</th>\n",
       "      <th>00;0</th>\n",
       "      <td>00;;;;;001;GRUPO;;;;;;;;;;;;;;;</td>\n",
       "    </tr>\n",
       "    <tr>\n",
       "      <th>...</th>\n",
       "      <th>...</th>\n",
       "      <th>...</th>\n",
       "      <td>...</td>\n",
       "    </tr>\n",
       "    <tr>\n",
       "      <th>00998;50.007.196 THAMIRES DOS SANTOS ROCHA;SEMPRE BELLA;50007196000114;139890122;;00998;;10 R COLOMBIA;327;LIBERDADE;06173;78530000;6699907544;66999075447;IMPORTADO PLANILHA;;PEIXOTO DE AZEVEDO;;MT;;;IMPORTADO PLANILHA;;09/01/2025 11:20:52;DPB;10 R COLOMBIA - 327</th>\n",
       "      <th>LIBERDADE;;;0;0</th>\n",
       "      <th>00;0</th>\n",
       "      <td>00;;;;;001;GRUPO;ROCHATHAMIRES264@GMAIL.COM;;;...</td>\n",
       "    </tr>\n",
       "    <tr>\n",
       "      <th>01356;S BATEMARQUE PEREIRA LTDA;FARMACIA ECONOMIZE POXOREU;51483730000121;140091688;;01356;;R MATO GROSSO;414;CENTRO;06183;78800000;;66996313208;IMPORTADO PLANILHA;;POXOREU;;MT;;;IMPORTADO PLANILHA;;09/01/2025 11:20:52;DPB;R MATO GROSSO - 414</th>\n",
       "      <th>CENTRO;;;0;0</th>\n",
       "      <th>00;0</th>\n",
       "      <td>00;;;;;001;GRUPO;FARMACIAECONOMIZEPOXOREU@HOTM...</td>\n",
       "    </tr>\n",
       "    <tr>\n",
       "      <th>00700;JANIELY DE OLIVEIRA LIMA 06080672537;ESTACAO DA BELEZA;34330717000113;159877652;;00700;;RUA DEZESSEIS DE AGOSTO;SN;CENTRO;06472;44640000;7599937539;;IMPORTADO PLANILHA;;RIACHAO DO JACUIPE;;BA;;;IMPORTADO PLANILHA;;09/01/2025 11:20:52;DPB;RUA DEZESSEIS DE AGOSTO - SN</th>\n",
       "      <th>CENTRO;;;0;0</th>\n",
       "      <th>00;0</th>\n",
       "      <td>00;;BOX 29;;;001;GRUPO;JANIELLY_LIMA2016@HOTMA...</td>\n",
       "    </tr>\n",
       "    <tr>\n",
       "      <th>01084;M CARNEIRO DA SILVA OLIVEIRA;LYPE;13032604000161;ISENTO;;01084;;R CONEGO HENRIQUE FREITAS;50;CENTRO;06472;44640000;75992318412;;IMPORTADO PLANILHA;;RIACHAO DO JACUIPE;;BA;;;IMPORTADO PLANILHA;;09/01/2025 11:20:52;DPB;R CONEGO HENRIQUE FREITAS - 50</th>\n",
       "      <th>CENTRO;;;0;0</th>\n",
       "      <th>00;0</th>\n",
       "      <td>00;;LOJA;;;001;GRUPO;LYPECOSMETICOS@GMAIL.COM;...</td>\n",
       "    </tr>\n",
       "    <tr>\n",
       "      <th>00501;MALU ACESSORIOS LTDA.;MALU ACESSORIOS LTDA.;32748502000272;195221580;;00501;;TRAVESSA EDVAN VILAS BOAS;35;CENTRO;06476;46438037;77999952030;;IMPORTADO PLANILHA;;IUIU;;BA;;;IMPORTADO PLANILHA;;09/01/2025 11:20:52;DPB;TRAVESSA EDVAN VILAS BOAS - 35</th>\n",
       "      <th>CENTRO;;;0;0</th>\n",
       "      <th>00;0</th>\n",
       "      <td>00;;;;;001;GRUPO;FLAVIA.LEIS@GMAIL.COM;;;;;;;;...</td>\n",
       "    </tr>\n",
       "  </tbody>\n",
       "</table>\n",
       "<p>757 rows × 1 columns</p>\n",
       "</div>"
      ],
      "text/plain": [
       "                                                                                          cod_cli;nome_cli;fant_cli;cgc_cpf_cl;insc_rg_cl;vendedor;cod_cli_1;tipo;endereco;numero;bairro;cod_cid;cep;telefone;fax;obs;contato;lk_nm_cidade;lk_nm_vendedor;lk_estado;COD_REG;tip_1_cli;obs_cli;cl_classificacao;dt_pedido;tipo_fat;cl_endereco;vl_cheques;vl_contas;LIMI_COMP;cl_limite_usado;cl_limite_disponivel;cl_estouro;complemento;VALOR_VENDAS;DATA_ULT_COMPRA;cod_grup;grupo;email;latitude;longitude;RAZAO_SOC;sem_lactose;sem_leite;sem_gluten;zero_acucar;proteico;vegano;energetico;id_supervisor;nome_supervisor;data_nasc;\n",
       "01154;21.680.359 ALINNE FONSECA DA SILVA;21.680... VERDES HORIZONTES;;;0;0           00;0  00;;TATAI BAMBINA PETSHOP;;;001;GRUPO;ALINNE.M...                                                                                                                                                                                                                                                                                                                                                                                                                                                                                            \n",
       "00195;34.790.530 KEROLEYNE TEREZA GOMES MELO;34... VILA DE ABRANTES (ABRANTES);;;0;0 00;0  00;;CONJ ALPHAVILLE LITORAL NORTE 1 CASA T116;...                                                                                                                                                                                                                                                                                                                                                                                                                                                                                            \n",
       "01282;ALAN PAULO DE ANDRADE;ALAN PAULO DE ANDRA... ;;;0;0                            00;0                    00;;;;;001;GRUPO;;;;;;;;;;;;;;;                                                                                                                                                                                                                                                                                                                                                                                                                                                                                            \n",
       "01318;ALINNE FONSECA;ALINNE FONSECA;;;;01318;;;... ;;;0;0                            00;0                    00;;;;;001;GRUPO;;;;;;;;;;;;;;;                                                                                                                                                                                                                                                                                                                                                                                                                                                                                            \n",
       "01321;ANDERSON;ANDERSON;;;;01321;;;;;;;;;IMPORT... ;;;0;0                            00;0                    00;;;;;001;GRUPO;;;;;;;;;;;;;;;                                                                                                                                                                                                                                                                                                                                                                                                                                                                                            \n",
       "...                                                                                                                                      ...                                                                                                                                                                                                                                                                                                                                                                                                                                                                                            \n",
       "00998;50.007.196 THAMIRES DOS SANTOS ROCHA;SEMP... LIBERDADE;;;0;0                   00;0  00;;;;;001;GRUPO;ROCHATHAMIRES264@GMAIL.COM;;;...                                                                                                                                                                                                                                                                                                                                                                                                                                                                                            \n",
       "01356;S BATEMARQUE PEREIRA LTDA;FARMACIA ECONOM... CENTRO;;;0;0                      00;0  00;;;;;001;GRUPO;FARMACIAECONOMIZEPOXOREU@HOTM...                                                                                                                                                                                                                                                                                                                                                                                                                                                                                            \n",
       "00700;JANIELY DE OLIVEIRA LIMA 06080672537;ESTA... CENTRO;;;0;0                      00;0  00;;BOX 29;;;001;GRUPO;JANIELLY_LIMA2016@HOTMA...                                                                                                                                                                                                                                                                                                                                                                                                                                                                                            \n",
       "01084;M CARNEIRO DA SILVA OLIVEIRA;LYPE;1303260... CENTRO;;;0;0                      00;0  00;;LOJA;;;001;GRUPO;LYPECOSMETICOS@GMAIL.COM;...                                                                                                                                                                                                                                                                                                                                                                                                                                                                                            \n",
       "00501;MALU ACESSORIOS LTDA.;MALU ACESSORIOS LTD... CENTRO;;;0;0                      00;0  00;;;;;001;GRUPO;FLAVIA.LEIS@GMAIL.COM;;;;;;;;...                                                                                                                                                                                                                                                                                                                                                                                                                                                                                            \n",
       "\n",
       "[757 rows x 1 columns]"
      ]
     },
     "metadata": {},
     "output_type": "display_data"
    }
   ],
   "source": [
    "df = pd.read_csv(\n",
    "    r\"C:\\Users\\User100\\Downloads\\relação clientes sgi.csv\", \n",
    "    encoding='latin1',\n",
    "    on_bad_lines='skip'  # Ignora linhas com problemas\n",
    ")\n",
    "display(df)\n",
    "\n"
   ]
  },
  {
   "cell_type": "code",
   "execution_count": 9,
   "metadata": {},
   "outputs": [
    {
     "name": "stdout",
     "output_type": "stream",
     "text": [
      "Arquivo salvo como Excel!\n"
     ]
    }
   ],
   "source": [
    "df.to_excel(r\"C:\\Users\\User100\\Downloads\\relacao_clientes_sgi.xlsx\", index=False)\n",
    "\n",
    "print(\"Arquivo salvo como Excel!\")"
   ]
  }
 ],
 "metadata": {
  "kernelspec": {
   "display_name": "Python 3",
   "language": "python",
   "name": "python3"
  },
  "language_info": {
   "codemirror_mode": {
    "name": "ipython",
    "version": 3
   },
   "file_extension": ".py",
   "mimetype": "text/x-python",
   "name": "python",
   "nbconvert_exporter": "python",
   "pygments_lexer": "ipython3",
   "version": "3.12.5"
  }
 },
 "nbformat": 4,
 "nbformat_minor": 2
}
